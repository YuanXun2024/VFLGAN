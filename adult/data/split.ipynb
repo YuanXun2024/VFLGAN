{
 "cells": [
  {
   "cell_type": "code",
   "execution_count": 3,
   "metadata": {},
   "outputs": [],
   "source": [
    "import numpy as np\n",
    "import pandas as pd\n",
    "\n",
    "df_ori = pd.read_csv('adult.csv')\n",
    "data = df_ori.values"
   ]
  },
  {
   "cell_type": "code",
   "execution_count": 4,
   "metadata": {},
   "outputs": [],
   "source": [
    "data_new = np.zeros_like(data)\n",
    "\n",
    "# data stored in client 1\n",
    "data_new[:, 0] = data[:, 0]\n",
    "data_new[:, 1:1 + 7] = data[:, 6:6 + 7]\n",
    "data_new[:, 8] = data[:, 1]\n",
    "data_new[:, 9:9 + 16] = data[:, 13:13 + 16]\n",
    "data_new[:, 25] = data[:, 2]\n",
    "data_new[:, 26:26 + 7] = data[:, 29:29 + 7]\n",
    "data_new[:, 33:33 + 14] = data[:, 36:36 + 14]\n",
    "data_new[:, 47:47 + 6] = data[:, 50:50 + 6]\n",
    "\n",
    "# data stored in client 2\n",
    "data_new[:, 53:53 + 5] = data[:, 56:56 + 5]\n",
    "data_new[:, 58:58 + 2] = data[:, 61:61 + 2]\n",
    "data_new[:, 60] = data[:, 3]\n",
    "data_new[:, 61] = data[:, 4]\n",
    "data_new[:, 62] = data[:, 5]\n",
    "data_new[:, 63:63 + 41] = data[:, 63:63 + 41]\n",
    "data_new[:, 104:104 + 2] = data[:, 104:104 + 2]"
   ]
  },
  {
   "cell_type": "code",
   "execution_count": null,
   "metadata": {},
   "outputs": [],
   "source": [
    "np.save('adult_client_1.npy', data_new[:, :53])\n",
    "np.save('adult_client_2.npy', data_new[:, 53:])"
   ]
  }
 ],
 "metadata": {
  "kernelspec": {
   "display_name": "vflgan",
   "language": "python",
   "name": "python3"
  },
  "language_info": {
   "codemirror_mode": {
    "name": "ipython",
    "version": 3
   },
   "file_extension": ".py",
   "mimetype": "text/x-python",
   "name": "python",
   "nbconvert_exporter": "python",
   "pygments_lexer": "ipython3",
   "version": "3.8.18"
  }
 },
 "nbformat": 4,
 "nbformat_minor": 2
}
